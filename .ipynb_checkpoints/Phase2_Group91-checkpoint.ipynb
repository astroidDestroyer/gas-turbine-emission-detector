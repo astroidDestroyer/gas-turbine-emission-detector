{
 "cells": [
  {
   "cell_type": "markdown",
   "metadata": {},
   "source": [
    "## Phase 2: Prediction of Total Yeild Energy"
   ]
  },
  {
   "cell_type": "code",
   "execution_count": null,
   "metadata": {},
   "outputs": [],
   "source": []
  },
  {
   "cell_type": "markdown",
   "metadata": {},
   "source": [
    "## Table of Contents\n",
    "1. **Introduction** <br>\n",
    "    1.1. Phase 1 Summary <br>\n",
    "    1.2. Report Overview <br>\n",
    "    1.3. Overview of Methodology <br>\n",
    "2. **Predictive Modelling** <br>\n",
    "    2.1. Feature Selection <br>\n",
    "    2.2. Model Fitting and Tuning along with Hyperparameter tuning <br>\n",
    "    2.3. Model Comparision <br>\n",
    "3. **Critique and Limitations**<br>\n",
    "4. **Summary and Conclusions** <br>\n",
    "    4.1. Summary For Both Phases Of The Project <br>\n",
    "    4.2. Summary of Findings<br>\n",
    "    4.3. Conclusion <br>\n",
    "5. **References**"
   ]
  },
  {
   "cell_type": "markdown",
   "metadata": {},
   "source": [
    "## 1. Introduction"
   ]
  },
  {
   "cell_type": "markdown",
   "metadata": {},
   "source": [
    "### 1.1 Phase 1 Summary\n",
    "In this project we will be predicting the total yeild energy of a gas turbine system using some specific parameters. The dataset used for this project was taken from the UCI machine learning repository (Heysem Kaya, 2022). It contains various measurements taken from different sensors located in a gas turbine in Turkey to study the emissions of carbon monoxide and nitrogen oxides. The recordings in the datset were taken in the year 2015. In the Phase 1 of this project, all the cleaning and basic pre processing of the dataset was done. It included removal of null values, fixing a target variable for prediction, checking all the data types, and more. Data preprocessing is an important step towards any machine learning problem as it enables us to get accurate results. This project is a regression problem and therefore we would be using Linear Regression, Random Forest, and Decision Tree algorithms to predict our target feature."
   ]
  },
  {
   "cell_type": "markdown",
   "metadata": {},
   "source": [
    "### 1.2 Report Overview\n",
    "This report predominantly deals with predictive modelling and fine tuning the hyper parameters for more accurate predictions of teh target variable. The total dataset has around 7000 rows. Since it is very large and the model fitting takes time and resources, we would be using only 5000 rows for all our analysis. We start by reading the dataset and checking for any null values that might be present. Further, we scale all the features using MinMaxScaler. This preserves the shape of the original distribution and brings all the values between 0 and 1. Next, we make 3 predictive models: Linear Regression, Random Foreest Regressor, and Decision Tree Regressor algorithms followed by the fine tuning of the hyperparameters to obtain suitable results."
   ]
  },
  {
   "cell_type": "markdown",
   "metadata": {},
   "source": [
    "### 1.3 Overview of Methodology\n",
    "Powerful algorithms require hyperparameter tuning too to make better use of them. In this project, for Random Forest algorithm, we check the results before and after tuning. We use the number of estimators, max_depth, min_sample_split, and number of features for the hyperparameter tuning. Similarly for Decision Tree algoritm, we use the max_depth, min_sample_split, and number of features for the hyperparameter tuning. We use the KFold for both Random Forest and Decision Tree algorithms. Shuffling is also enabled so that consistent results can be obtained. For the Linear Regression mode, it is quite simply putting the data and obtaining a score that can evaluate the model properly and accurately."
   ]
  },
  {
   "cell_type": "markdown",
   "metadata": {},
   "source": [
    "## 2. Predictive Modelling"
   ]
  },
  {
   "cell_type": "code",
   "execution_count": 1,
   "metadata": {},
   "outputs": [],
   "source": [
    "import warnings\n",
    "warnings.filterwarnings(\"ignore\")\n",
    "\n",
    "\n",
    "import numpy as np\n",
    "import pandas as pd\n",
    "\n",
    "import matplotlib.pyplot as plt\n",
    "import seaborn as sns\n",
    "%matplotlib inline \n",
    "%config InlineBackend.figure_format = 'retina'\n",
    "plt.style.use(\"seaborn\")"
   ]
  },
  {
   "cell_type": "code",
   "execution_count": 2,
   "metadata": {},
   "outputs": [
    {
     "data": {
      "text/html": [
       "<div>\n",
       "<style scoped>\n",
       "    .dataframe tbody tr th:only-of-type {\n",
       "        vertical-align: middle;\n",
       "    }\n",
       "\n",
       "    .dataframe tbody tr th {\n",
       "        vertical-align: top;\n",
       "    }\n",
       "\n",
       "    .dataframe thead th {\n",
       "        text-align: right;\n",
       "    }\n",
       "</style>\n",
       "<table border=\"1\" class=\"dataframe\">\n",
       "  <thead>\n",
       "    <tr style=\"text-align: right;\">\n",
       "      <th></th>\n",
       "      <th>AT</th>\n",
       "      <th>AP</th>\n",
       "      <th>AH</th>\n",
       "      <th>AFDP</th>\n",
       "      <th>GTEP</th>\n",
       "      <th>TIT</th>\n",
       "      <th>TAT</th>\n",
       "      <th>TEY</th>\n",
       "      <th>CDP</th>\n",
       "      <th>CO</th>\n",
       "      <th>NOX</th>\n",
       "    </tr>\n",
       "  </thead>\n",
       "  <tbody>\n",
       "    <tr>\n",
       "      <th>0</th>\n",
       "      <td>1.95320</td>\n",
       "      <td>1020.1</td>\n",
       "      <td>84.985</td>\n",
       "      <td>2.5304</td>\n",
       "      <td>20.116</td>\n",
       "      <td>1048.7</td>\n",
       "      <td>544.92</td>\n",
       "      <td>116.27</td>\n",
       "      <td>10.799</td>\n",
       "      <td>7.4491</td>\n",
       "      <td>113.250</td>\n",
       "    </tr>\n",
       "    <tr>\n",
       "      <th>1</th>\n",
       "      <td>1.21910</td>\n",
       "      <td>1020.1</td>\n",
       "      <td>87.523</td>\n",
       "      <td>2.3937</td>\n",
       "      <td>18.584</td>\n",
       "      <td>1045.5</td>\n",
       "      <td>548.50</td>\n",
       "      <td>109.18</td>\n",
       "      <td>10.347</td>\n",
       "      <td>6.4684</td>\n",
       "      <td>112.020</td>\n",
       "    </tr>\n",
       "    <tr>\n",
       "      <th>2</th>\n",
       "      <td>0.94915</td>\n",
       "      <td>1022.2</td>\n",
       "      <td>78.335</td>\n",
       "      <td>2.7789</td>\n",
       "      <td>22.264</td>\n",
       "      <td>1068.8</td>\n",
       "      <td>549.95</td>\n",
       "      <td>125.88</td>\n",
       "      <td>11.256</td>\n",
       "      <td>3.6335</td>\n",
       "      <td>88.147</td>\n",
       "    </tr>\n",
       "    <tr>\n",
       "      <th>3</th>\n",
       "      <td>1.00750</td>\n",
       "      <td>1021.7</td>\n",
       "      <td>76.942</td>\n",
       "      <td>2.8170</td>\n",
       "      <td>23.358</td>\n",
       "      <td>1075.2</td>\n",
       "      <td>549.63</td>\n",
       "      <td>132.21</td>\n",
       "      <td>11.702</td>\n",
       "      <td>3.1972</td>\n",
       "      <td>87.078</td>\n",
       "    </tr>\n",
       "    <tr>\n",
       "      <th>4</th>\n",
       "      <td>1.28580</td>\n",
       "      <td>1021.6</td>\n",
       "      <td>76.732</td>\n",
       "      <td>2.8377</td>\n",
       "      <td>23.483</td>\n",
       "      <td>1076.2</td>\n",
       "      <td>549.68</td>\n",
       "      <td>133.58</td>\n",
       "      <td>11.737</td>\n",
       "      <td>2.3833</td>\n",
       "      <td>82.515</td>\n",
       "    </tr>\n",
       "  </tbody>\n",
       "</table>\n",
       "</div>"
      ],
      "text/plain": [
       "        AT      AP      AH    AFDP    GTEP     TIT     TAT     TEY     CDP  \\\n",
       "0  1.95320  1020.1  84.985  2.5304  20.116  1048.7  544.92  116.27  10.799   \n",
       "1  1.21910  1020.1  87.523  2.3937  18.584  1045.5  548.50  109.18  10.347   \n",
       "2  0.94915  1022.2  78.335  2.7789  22.264  1068.8  549.95  125.88  11.256   \n",
       "3  1.00750  1021.7  76.942  2.8170  23.358  1075.2  549.63  132.21  11.702   \n",
       "4  1.28580  1021.6  76.732  2.8377  23.483  1076.2  549.68  133.58  11.737   \n",
       "\n",
       "       CO      NOX  \n",
       "0  7.4491  113.250  \n",
       "1  6.4684  112.020  \n",
       "2  3.6335   88.147  \n",
       "3  3.1972   87.078  \n",
       "4  2.3833   82.515  "
      ]
     },
     "execution_count": 2,
     "metadata": {},
     "output_type": "execute_result"
    }
   ],
   "source": [
    "#loading the dataset and checking the head of the same to see if it has been loaded in properly\n",
    "GT_emissions = pd.read_csv(\"gt_2015.csv\")\n",
    "GT_emissions.head()"
   ]
  },
  {
   "cell_type": "code",
   "execution_count": 3,
   "metadata": {},
   "outputs": [
    {
     "data": {
      "text/plain": [
       "AT      0\n",
       "AP      0\n",
       "AH      0\n",
       "AFDP    0\n",
       "GTEP    0\n",
       "TIT     0\n",
       "TAT     0\n",
       "TEY     0\n",
       "CDP     0\n",
       "CO      0\n",
       "NOX     0\n",
       "dtype: int64"
      ]
     },
     "execution_count": 3,
     "metadata": {},
     "output_type": "execute_result"
    }
   ],
   "source": [
    "#Checking for null values\n",
    "## No null values found, can procedd to the next step\n",
    "GT_emissions.isna().sum()"
   ]
  },
  {
   "cell_type": "code",
   "execution_count": 4,
   "metadata": {
    "scrolled": true
   },
   "outputs": [
    {
     "data": {
      "text/html": [
       "<div>\n",
       "<style scoped>\n",
       "    .dataframe tbody tr th:only-of-type {\n",
       "        vertical-align: middle;\n",
       "    }\n",
       "\n",
       "    .dataframe tbody tr th {\n",
       "        vertical-align: top;\n",
       "    }\n",
       "\n",
       "    .dataframe thead th {\n",
       "        text-align: right;\n",
       "    }\n",
       "</style>\n",
       "<table border=\"1\" class=\"dataframe\">\n",
       "  <thead>\n",
       "    <tr style=\"text-align: right;\">\n",
       "      <th></th>\n",
       "      <th>AT</th>\n",
       "      <th>AP</th>\n",
       "      <th>AH</th>\n",
       "      <th>AFDP</th>\n",
       "      <th>GTEP</th>\n",
       "      <th>TIT</th>\n",
       "      <th>TAT</th>\n",
       "      <th>TEY</th>\n",
       "      <th>CDP</th>\n",
       "      <th>CO</th>\n",
       "      <th>NOX</th>\n",
       "    </tr>\n",
       "  </thead>\n",
       "  <tbody>\n",
       "    <tr>\n",
       "      <th>count</th>\n",
       "      <td>7384.000000</td>\n",
       "      <td>7384.00000</td>\n",
       "      <td>7384.000000</td>\n",
       "      <td>7384.000000</td>\n",
       "      <td>7384.000000</td>\n",
       "      <td>7384.000000</td>\n",
       "      <td>7384.000000</td>\n",
       "      <td>7384.000000</td>\n",
       "      <td>7384.000000</td>\n",
       "      <td>7384.000000</td>\n",
       "      <td>7384.000000</td>\n",
       "    </tr>\n",
       "    <tr>\n",
       "      <th>mean</th>\n",
       "      <td>17.225259</td>\n",
       "      <td>1014.50911</td>\n",
       "      <td>68.647464</td>\n",
       "      <td>3.598909</td>\n",
       "      <td>26.130149</td>\n",
       "      <td>1078.974689</td>\n",
       "      <td>546.642484</td>\n",
       "      <td>133.993380</td>\n",
       "      <td>12.097025</td>\n",
       "      <td>3.129986</td>\n",
       "      <td>59.890509</td>\n",
       "    </tr>\n",
       "    <tr>\n",
       "      <th>std</th>\n",
       "      <td>8.095783</td>\n",
       "      <td>6.89543</td>\n",
       "      <td>13.541116</td>\n",
       "      <td>0.610226</td>\n",
       "      <td>4.473737</td>\n",
       "      <td>19.762449</td>\n",
       "      <td>5.489066</td>\n",
       "      <td>16.179208</td>\n",
       "      <td>1.136601</td>\n",
       "      <td>2.234962</td>\n",
       "      <td>11.132464</td>\n",
       "    </tr>\n",
       "    <tr>\n",
       "      <th>min</th>\n",
       "      <td>-6.234800</td>\n",
       "      <td>989.40000</td>\n",
       "      <td>24.085000</td>\n",
       "      <td>2.368800</td>\n",
       "      <td>17.698000</td>\n",
       "      <td>1016.000000</td>\n",
       "      <td>516.040000</td>\n",
       "      <td>100.020000</td>\n",
       "      <td>9.870800</td>\n",
       "      <td>0.212800</td>\n",
       "      <td>25.905000</td>\n",
       "    </tr>\n",
       "    <tr>\n",
       "      <th>25%</th>\n",
       "      <td>11.073250</td>\n",
       "      <td>1009.67500</td>\n",
       "      <td>59.447250</td>\n",
       "      <td>3.117300</td>\n",
       "      <td>23.147000</td>\n",
       "      <td>1070.500000</td>\n",
       "      <td>544.747500</td>\n",
       "      <td>126.255000</td>\n",
       "      <td>11.465750</td>\n",
       "      <td>1.808175</td>\n",
       "      <td>52.399000</td>\n",
       "    </tr>\n",
       "    <tr>\n",
       "      <th>50%</th>\n",
       "      <td>17.456500</td>\n",
       "      <td>1014.00000</td>\n",
       "      <td>70.952000</td>\n",
       "      <td>3.538500</td>\n",
       "      <td>25.331000</td>\n",
       "      <td>1080.300000</td>\n",
       "      <td>549.720000</td>\n",
       "      <td>131.600000</td>\n",
       "      <td>11.933000</td>\n",
       "      <td>2.533400</td>\n",
       "      <td>56.838500</td>\n",
       "    </tr>\n",
       "    <tr>\n",
       "      <th>75%</th>\n",
       "      <td>23.684750</td>\n",
       "      <td>1018.30000</td>\n",
       "      <td>79.653750</td>\n",
       "      <td>4.194825</td>\n",
       "      <td>30.018250</td>\n",
       "      <td>1099.900000</td>\n",
       "      <td>550.030000</td>\n",
       "      <td>147.160000</td>\n",
       "      <td>13.148000</td>\n",
       "      <td>3.702550</td>\n",
       "      <td>65.093250</td>\n",
       "    </tr>\n",
       "    <tr>\n",
       "      <th>max</th>\n",
       "      <td>37.103000</td>\n",
       "      <td>1036.60000</td>\n",
       "      <td>96.666000</td>\n",
       "      <td>5.239500</td>\n",
       "      <td>40.716000</td>\n",
       "      <td>1100.400000</td>\n",
       "      <td>550.590000</td>\n",
       "      <td>179.500000</td>\n",
       "      <td>15.159000</td>\n",
       "      <td>41.097000</td>\n",
       "      <td>119.680000</td>\n",
       "    </tr>\n",
       "  </tbody>\n",
       "</table>\n",
       "</div>"
      ],
      "text/plain": [
       "                AT          AP           AH         AFDP         GTEP  \\\n",
       "count  7384.000000  7384.00000  7384.000000  7384.000000  7384.000000   \n",
       "mean     17.225259  1014.50911    68.647464     3.598909    26.130149   \n",
       "std       8.095783     6.89543    13.541116     0.610226     4.473737   \n",
       "min      -6.234800   989.40000    24.085000     2.368800    17.698000   \n",
       "25%      11.073250  1009.67500    59.447250     3.117300    23.147000   \n",
       "50%      17.456500  1014.00000    70.952000     3.538500    25.331000   \n",
       "75%      23.684750  1018.30000    79.653750     4.194825    30.018250   \n",
       "max      37.103000  1036.60000    96.666000     5.239500    40.716000   \n",
       "\n",
       "               TIT          TAT          TEY          CDP           CO  \\\n",
       "count  7384.000000  7384.000000  7384.000000  7384.000000  7384.000000   \n",
       "mean   1078.974689   546.642484   133.993380    12.097025     3.129986   \n",
       "std      19.762449     5.489066    16.179208     1.136601     2.234962   \n",
       "min    1016.000000   516.040000   100.020000     9.870800     0.212800   \n",
       "25%    1070.500000   544.747500   126.255000    11.465750     1.808175   \n",
       "50%    1080.300000   549.720000   131.600000    11.933000     2.533400   \n",
       "75%    1099.900000   550.030000   147.160000    13.148000     3.702550   \n",
       "max    1100.400000   550.590000   179.500000    15.159000    41.097000   \n",
       "\n",
       "               NOX  \n",
       "count  7384.000000  \n",
       "mean     59.890509  \n",
       "std      11.132464  \n",
       "min      25.905000  \n",
       "25%      52.399000  \n",
       "50%      56.838500  \n",
       "75%      65.093250  \n",
       "max     119.680000  "
      ]
     },
     "execution_count": 4,
     "metadata": {},
     "output_type": "execute_result"
    }
   ],
   "source": [
    "# Summary statistics\n",
    "GT_emissions.describe(include='all')"
   ]
  },
  {
   "cell_type": "code",
   "execution_count": 5,
   "metadata": {
    "scrolled": true
   },
   "outputs": [
    {
     "data": {
      "text/html": [
       "<div>\n",
       "<style scoped>\n",
       "    .dataframe tbody tr th:only-of-type {\n",
       "        vertical-align: middle;\n",
       "    }\n",
       "\n",
       "    .dataframe tbody tr th {\n",
       "        vertical-align: top;\n",
       "    }\n",
       "\n",
       "    .dataframe thead th {\n",
       "        text-align: right;\n",
       "    }\n",
       "</style>\n",
       "<table border=\"1\" class=\"dataframe\">\n",
       "  <thead>\n",
       "    <tr style=\"text-align: right;\">\n",
       "      <th></th>\n",
       "      <th>AT</th>\n",
       "      <th>AP</th>\n",
       "      <th>AH</th>\n",
       "      <th>AFDP</th>\n",
       "      <th>GTEP</th>\n",
       "      <th>TIT</th>\n",
       "      <th>TAT</th>\n",
       "      <th>TEY</th>\n",
       "      <th>CDP</th>\n",
       "      <th>CO</th>\n",
       "      <th>NOX</th>\n",
       "    </tr>\n",
       "  </thead>\n",
       "  <tbody>\n",
       "    <tr>\n",
       "      <th>1649</th>\n",
       "      <td>8.2797</td>\n",
       "      <td>1008.3</td>\n",
       "      <td>84.191</td>\n",
       "      <td>2.6276</td>\n",
       "      <td>18.669</td>\n",
       "      <td>1045.4</td>\n",
       "      <td>549.85</td>\n",
       "      <td>109.40</td>\n",
       "      <td>10.198</td>\n",
       "      <td>5.8329</td>\n",
       "      <td>71.070</td>\n",
       "    </tr>\n",
       "    <tr>\n",
       "      <th>7085</th>\n",
       "      <td>10.9830</td>\n",
       "      <td>1025.9</td>\n",
       "      <td>61.541</td>\n",
       "      <td>3.3500</td>\n",
       "      <td>23.490</td>\n",
       "      <td>1076.8</td>\n",
       "      <td>550.10</td>\n",
       "      <td>131.20</td>\n",
       "      <td>11.842</td>\n",
       "      <td>3.3611</td>\n",
       "      <td>61.628</td>\n",
       "    </tr>\n",
       "    <tr>\n",
       "      <th>4366</th>\n",
       "      <td>29.0900</td>\n",
       "      <td>1011.3</td>\n",
       "      <td>51.661</td>\n",
       "      <td>4.4860</td>\n",
       "      <td>30.552</td>\n",
       "      <td>1100.0</td>\n",
       "      <td>542.88</td>\n",
       "      <td>149.34</td>\n",
       "      <td>13.369</td>\n",
       "      <td>1.8529</td>\n",
       "      <td>54.393</td>\n",
       "    </tr>\n",
       "    <tr>\n",
       "      <th>4047</th>\n",
       "      <td>21.5400</td>\n",
       "      <td>1007.8</td>\n",
       "      <td>89.686</td>\n",
       "      <td>4.3392</td>\n",
       "      <td>29.926</td>\n",
       "      <td>1100.0</td>\n",
       "      <td>545.17</td>\n",
       "      <td>148.52</td>\n",
       "      <td>13.146</td>\n",
       "      <td>1.1483</td>\n",
       "      <td>55.930</td>\n",
       "    </tr>\n",
       "    <tr>\n",
       "      <th>6398</th>\n",
       "      <td>16.0720</td>\n",
       "      <td>1016.1</td>\n",
       "      <td>71.225</td>\n",
       "      <td>3.2991</td>\n",
       "      <td>23.509</td>\n",
       "      <td>1074.7</td>\n",
       "      <td>550.21</td>\n",
       "      <td>128.39</td>\n",
       "      <td>11.726</td>\n",
       "      <td>2.2579</td>\n",
       "      <td>54.790</td>\n",
       "    </tr>\n",
       "  </tbody>\n",
       "</table>\n",
       "</div>"
      ],
      "text/plain": [
       "           AT      AP      AH    AFDP    GTEP     TIT     TAT     TEY     CDP  \\\n",
       "1649   8.2797  1008.3  84.191  2.6276  18.669  1045.4  549.85  109.40  10.198   \n",
       "7085  10.9830  1025.9  61.541  3.3500  23.490  1076.8  550.10  131.20  11.842   \n",
       "4366  29.0900  1011.3  51.661  4.4860  30.552  1100.0  542.88  149.34  13.369   \n",
       "4047  21.5400  1007.8  89.686  4.3392  29.926  1100.0  545.17  148.52  13.146   \n",
       "6398  16.0720  1016.1  71.225  3.2991  23.509  1074.7  550.21  128.39  11.726   \n",
       "\n",
       "          CO     NOX  \n",
       "1649  5.8329  71.070  \n",
       "7085  3.3611  61.628  \n",
       "4366  1.8529  54.393  \n",
       "4047  1.1483  55.930  \n",
       "6398  2.2579  54.790  "
      ]
     },
     "execution_count": 5,
     "metadata": {},
     "output_type": "execute_result"
    }
   ],
   "source": [
    "GT_emissions.sample(5, random_state=999)"
   ]
  },
  {
   "cell_type": "markdown",
   "metadata": {},
   "source": [
    "### Scaling all the features"
   ]
  },
  {
   "cell_type": "code",
   "execution_count": 6,
   "metadata": {},
   "outputs": [],
   "source": [
    "from sklearn import preprocessing\n",
    "\n",
    "Data_df = GT_emissions.copy()\n",
    "\n",
    "Data_scaler = preprocessing.MinMaxScaler()\n",
    "Data_scaler.fit(GT_emissions)\n",
    "Data = Data_scaler.fit_transform(GT_emissions)"
   ]
  },
  {
   "cell_type": "code",
   "execution_count": 7,
   "metadata": {
    "scrolled": true
   },
   "outputs": [
    {
     "data": {
      "text/html": [
       "<div>\n",
       "<style scoped>\n",
       "    .dataframe tbody tr th:only-of-type {\n",
       "        vertical-align: middle;\n",
       "    }\n",
       "\n",
       "    .dataframe tbody tr th {\n",
       "        vertical-align: top;\n",
       "    }\n",
       "\n",
       "    .dataframe thead th {\n",
       "        text-align: right;\n",
       "    }\n",
       "</style>\n",
       "<table border=\"1\" class=\"dataframe\">\n",
       "  <thead>\n",
       "    <tr style=\"text-align: right;\">\n",
       "      <th></th>\n",
       "      <th>AT</th>\n",
       "      <th>AP</th>\n",
       "      <th>AH</th>\n",
       "      <th>AFDP</th>\n",
       "      <th>GTEP</th>\n",
       "      <th>TIT</th>\n",
       "      <th>TAT</th>\n",
       "      <th>TEY</th>\n",
       "      <th>CDP</th>\n",
       "      <th>CO</th>\n",
       "      <th>NOX</th>\n",
       "    </tr>\n",
       "  </thead>\n",
       "  <tbody>\n",
       "    <tr>\n",
       "      <th>1649</th>\n",
       "      <td>0.334915</td>\n",
       "      <td>0.400424</td>\n",
       "      <td>0.828123</td>\n",
       "      <td>0.090152</td>\n",
       "      <td>0.042184</td>\n",
       "      <td>0.348341</td>\n",
       "      <td>0.978582</td>\n",
       "      <td>0.118017</td>\n",
       "      <td>0.061874</td>\n",
       "      <td>0.137464</td>\n",
       "      <td>0.481632</td>\n",
       "    </tr>\n",
       "    <tr>\n",
       "      <th>7085</th>\n",
       "      <td>0.397293</td>\n",
       "      <td>0.773305</td>\n",
       "      <td>0.516058</td>\n",
       "      <td>0.341798</td>\n",
       "      <td>0.251629</td>\n",
       "      <td>0.720379</td>\n",
       "      <td>0.985818</td>\n",
       "      <td>0.392300</td>\n",
       "      <td>0.372754</td>\n",
       "      <td>0.077005</td>\n",
       "      <td>0.380944</td>\n",
       "    </tr>\n",
       "    <tr>\n",
       "      <th>4366</th>\n",
       "      <td>0.815104</td>\n",
       "      <td>0.463983</td>\n",
       "      <td>0.379934</td>\n",
       "      <td>0.737520</td>\n",
       "      <td>0.558433</td>\n",
       "      <td>0.995261</td>\n",
       "      <td>0.776845</td>\n",
       "      <td>0.620533</td>\n",
       "      <td>0.661511</td>\n",
       "      <td>0.040116</td>\n",
       "      <td>0.303791</td>\n",
       "    </tr>\n",
       "    <tr>\n",
       "      <th>4047</th>\n",
       "      <td>0.640891</td>\n",
       "      <td>0.389831</td>\n",
       "      <td>0.903832</td>\n",
       "      <td>0.686383</td>\n",
       "      <td>0.531236</td>\n",
       "      <td>0.995261</td>\n",
       "      <td>0.843126</td>\n",
       "      <td>0.610216</td>\n",
       "      <td>0.619341</td>\n",
       "      <td>0.022882</td>\n",
       "      <td>0.320181</td>\n",
       "    </tr>\n",
       "    <tr>\n",
       "      <th>6398</th>\n",
       "      <td>0.514719</td>\n",
       "      <td>0.565678</td>\n",
       "      <td>0.649481</td>\n",
       "      <td>0.324067</td>\n",
       "      <td>0.252455</td>\n",
       "      <td>0.695498</td>\n",
       "      <td>0.989001</td>\n",
       "      <td>0.356945</td>\n",
       "      <td>0.350819</td>\n",
       "      <td>0.050022</td>\n",
       "      <td>0.308025</td>\n",
       "    </tr>\n",
       "  </tbody>\n",
       "</table>\n",
       "</div>"
      ],
      "text/plain": [
       "            AT        AP        AH      AFDP      GTEP       TIT       TAT  \\\n",
       "1649  0.334915  0.400424  0.828123  0.090152  0.042184  0.348341  0.978582   \n",
       "7085  0.397293  0.773305  0.516058  0.341798  0.251629  0.720379  0.985818   \n",
       "4366  0.815104  0.463983  0.379934  0.737520  0.558433  0.995261  0.776845   \n",
       "4047  0.640891  0.389831  0.903832  0.686383  0.531236  0.995261  0.843126   \n",
       "6398  0.514719  0.565678  0.649481  0.324067  0.252455  0.695498  0.989001   \n",
       "\n",
       "           TEY       CDP        CO       NOX  \n",
       "1649  0.118017  0.061874  0.137464  0.481632  \n",
       "7085  0.392300  0.372754  0.077005  0.380944  \n",
       "4366  0.620533  0.661511  0.040116  0.303791  \n",
       "4047  0.610216  0.619341  0.022882  0.320181  \n",
       "6398  0.356945  0.350819  0.050022  0.308025  "
      ]
     },
     "execution_count": 7,
     "metadata": {},
     "output_type": "execute_result"
    }
   ],
   "source": [
    "pd.DataFrame(Data, columns=Data_df.columns).sample(5, random_state=999)"
   ]
  },
  {
   "cell_type": "markdown",
   "metadata": {},
   "source": [
    "### 2.1 Feature Selection\n",
    "For our feature seelction, we first drop the target variable and make a copy of the dataset. RandomForestRegressor from sklean.ensemble is then used to check the best features that might be affecting our final target variable. A table is made explaining all the featuers to make it easier to understand the results."
   ]
  },
  {
   "cell_type": "code",
   "execution_count": 8,
   "metadata": {},
   "outputs": [],
   "source": [
    "## Feature selection and ranking\n",
    "Data = Data_df.drop('TEY',axis =1)\n",
    "target = GT_emissions['TEY']"
   ]
  },
  {
   "cell_type": "code",
   "execution_count": 9,
   "metadata": {},
   "outputs": [
    {
     "data": {
      "text/plain": [
       "array(['CDP', 'TIT', 'AT', 'AFDP', 'TAT', 'GTEP', 'NOX', 'AP', 'AH', 'CO'],\n",
       "      dtype=object)"
      ]
     },
     "execution_count": 9,
     "metadata": {},
     "output_type": "execute_result"
    }
   ],
   "source": [
    "from sklearn.ensemble import RandomForestRegressor\n",
    "\n",
    "\n",
    "\n",
    "model_rfi = RandomForestRegressor(n_estimators=100)\n",
    "model_rfi.fit(Data, target)\n",
    "fs_indices_rfi = np.argsort(model_rfi.feature_importances_)[::-1]\n",
    "\n",
    "best_features_rfi = Data.columns[fs_indices_rfi].values\n",
    "best_features_rfi"
   ]
  },
  {
   "cell_type": "code",
   "execution_count": 10,
   "metadata": {},
   "outputs": [
    {
     "data": {
      "text/plain": [
       "array([9.50728876e-01, 3.53186270e-02, 9.11243856e-03, 1.58391292e-03,\n",
       "       1.20408980e-03, 8.47136932e-04, 4.34979548e-04, 3.42928822e-04,\n",
       "       2.43754026e-04, 1.83256291e-04])"
      ]
     },
     "execution_count": 10,
     "metadata": {},
     "output_type": "execute_result"
    }
   ],
   "source": [
    "feature_importances_rfi = model_rfi.feature_importances_[fs_indices_rfi]\n",
    "feature_importances_rfi"
   ]
  },
  {
   "cell_type": "code",
   "execution_count": 11,
   "metadata": {},
   "outputs": [],
   "source": [
    "# Visualising the above results\n",
    "import matplotlib.pyplot as plt\n",
    "%matplotlib inline \n",
    "%config InlineBackend.figure_format = 'retina'\n",
    "plt.style.use(\"ggplot\")\n",
    "\n",
    "def plot_imp(best_features, scores, method_name):   \n",
    "    plt.barh(best_features, scores)\n",
    "    plt.title(method_name + ' Feature Importances')\n",
    "    plt.xlabel(\"Importance\")\n",
    "    plt.ylabel(\"Features\")\n",
    "    plt.show()"
   ]
  },
  {
   "cell_type": "code",
   "execution_count": 12,
   "metadata": {},
   "outputs": [
    {
     "data": {
      "image/png": "[encoded data removed]",
      "text/plain": [
       "<Figure size 432x288 with 1 Axes>"
      ]
     },
     "metadata": {
      "image/png": {
       "height": 279,
       "width": 399
      }
     },
     "output_type": "display_data"
    }
   ],
   "source": [
    "plot_imp(best_features_rfi, feature_importances_rfi, 'Random Forest')"
   ]
  },
  {
   "cell_type": "code",
   "execution_count": 13,
   "metadata": {},
   "outputs": [
    {
     "name": "stdout",
     "output_type": "stream",
     "text": [
      "╒════════╤════════════════════════════════╤═════════════════════╕\n",
      "│ Name   │ Description                    │ Units               │\n",
      "╞════════╪════════════════════════════════╪═════════════════════╡\n",
      "│ AT     │ Ambient Temperature            │ Celsius             │\n",
      "├────────┼────────────────────────────────┼─────────────────────┤\n",
      "│ AP     │ Ambient Pressure               │ mbar                │\n",
      "├────────┼────────────────────────────────┼─────────────────────┤\n",
      "│ AH     │ Ambient Humidity               │ %                   │\n",
      "├────────┼────────────────────────────────┼─────────────────────┤\n",
      "│ AFDP   │ Air Filter Difference Pressure │ mbar                │\n",
      "├────────┼────────────────────────────────┼─────────────────────┤\n",
      "│ GTEP   │ Gas Turbine Exhaust Pressure   │ mbar                │\n",
      "├────────┼────────────────────────────────┼─────────────────────┤\n",
      "│ TIT    │ Turbine Inlet temperature      │ Celsius             │\n",
      "├────────┼────────────────────────────────┼─────────────────────┤\n",
      "│ TAT    │ Turbine After temperature      │ Celsius             │\n",
      "├────────┼────────────────────────────────┼─────────────────────┤\n",
      "│ TEY    │ Turbine Energy Yield           │ Megawatt hour (MWH) │\n",
      "├────────┼────────────────────────────────┼─────────────────────┤\n",
      "│ CDP    │ Compressor Discharge Pressure  │ mbar                │\n",
      "├────────┼────────────────────────────────┼─────────────────────┤\n",
      "│ CO     │ Carbon monoxide content        │ mg/m3               │\n",
      "├────────┼────────────────────────────────┼─────────────────────┤\n",
      "│ NOX    │ Nitrogen oxides content        │ mg/mg3              │\n",
      "╘════════╧════════════════════════════════╧═════════════════════╛\n"
     ]
    }
   ],
   "source": [
    "#Tabulating the dataset\n",
    "from tabulate import tabulate\n",
    "\n",
    "table = [['Name', 'Description', 'Units'],\n",
    "        ['AT', 'Ambient Temperature','Celsius'],\n",
    "        ['AP', 'Ambient Pressure','mbar'],\n",
    "        ['AH', 'Ambient Humidity', '%'],\n",
    "        ['AFDP', 'Air Filter Difference Pressure', 'mbar'],\n",
    "        ['GTEP', 'Gas Turbine Exhaust Pressure', 'mbar'],\n",
    "        ['TIT', 'Turbine Inlet temperature', 'Celsius'],\n",
    "        ['TAT', 'Turbine After temperature', 'Celsius'],\n",
    "        ['TEY', 'Turbine Energy Yield', 'Megawatt hour (MWH)'],\n",
    "        ['CDP', 'Compressor Discharge Pressure', 'mbar'],\n",
    "        ['CO', 'Carbon monoxide content','mg/m3'],\n",
    "        ['NOX', 'Nitrogen oxides content', 'mg/mg3']]\n",
    "\n",
    "print(tabulate(table, headers='firstrow', tablefmt='fancy_grid'))"
   ]
  },
  {
   "cell_type": "markdown",
   "metadata": {},
   "source": [
    "We can see that CDP, TIT, and AT are of most important features."
   ]
  },
  {
   "cell_type": "markdown",
   "metadata": {},
   "source": [
    "### 2.2 Model Fitting and Tuning along with Hyperparameter tuning\n",
    "Since our problem is regression based, we are using Linear Regression, Random Forest algorithm, and Decision Trees algorithm followed by fine tuning their respective parameters for a more accurate result. We will be using 5000 rows out of the total dataset to train and test the models and evaluate their performance."
   ]
  },
  {
   "cell_type": "code",
   "execution_count": 14,
   "metadata": {},
   "outputs": [
    {
     "name": "stdout",
     "output_type": "stream",
     "text": [
      "(5000, 10)\n",
      "(5000, 1)\n"
     ]
    }
   ],
   "source": [
    "n_samples = 5000\n",
    "\n",
    "Data_sample = pd.DataFrame(Data).sample(n=n_samples, random_state=8).values\n",
    "target_sample = pd.DataFrame(target).sample(n=n_samples, random_state=8).values\n",
    "\n",
    "print(Data_sample.shape)\n",
    "print(target_sample.shape)"
   ]
  },
  {
   "cell_type": "code",
   "execution_count": 15,
   "metadata": {},
   "outputs": [
    {
     "name": "stdout",
     "output_type": "stream",
     "text": [
      "(3500, 10)\n",
      "(1500, 10)\n"
     ]
    }
   ],
   "source": [
    "from sklearn.model_selection import train_test_split\n",
    "\n",
    "Data_sample_train, Data_sample_test, \\\n",
    "target_sample_train, target_sample_test = train_test_split(Data_sample, target_sample, \n",
    "                                                    test_size = 0.3, random_state=999,\n",
    "                                                    )\n",
    "\n",
    "print(Data_sample_train.shape)\n",
    "print(Data_sample_test.shape)"
   ]
  },
  {
   "cell_type": "markdown",
   "metadata": {},
   "source": [
    "#### Linear Regression"
   ]
  },
  {
   "cell_type": "code",
   "execution_count": 16,
   "metadata": {},
   "outputs": [],
   "source": [
    "from sklearn.linear_model import LinearRegression\n",
    "regr = LinearRegression()"
   ]
  },
  {
   "cell_type": "code",
   "execution_count": 17,
   "metadata": {},
   "outputs": [],
   "source": [
    "linearmodel = regr.fit(Data_sample_train, target_sample_train)"
   ]
  },
  {
   "cell_type": "code",
   "execution_count": 18,
   "metadata": {},
   "outputs": [
    {
     "data": {
      "text/plain": [
       "0.9984109473257428"
      ]
     },
     "execution_count": 18,
     "metadata": {},
     "output_type": "execute_result"
    }
   ],
   "source": [
    "linearmodel.score(Data_sample_test,target_sample_test)"
   ]
  },
  {
   "cell_type": "code",
   "execution_count": 19,
   "metadata": {},
   "outputs": [
    {
     "data": {
      "text/plain": [
       "<bound method BaseEstimator.get_params of LinearRegression(copy_X=True, fit_intercept=True, n_jobs=None, normalize=False)>"
      ]
     },
     "execution_count": 19,
     "metadata": {},
     "output_type": "execute_result"
    }
   ],
   "source": [
    "linearmodel.get_params"
   ]
  },
  {
   "cell_type": "markdown",
   "metadata": {},
   "source": [
    "#### Model Evaluation Strategy\n",
    "We have used the KFold method for gridsearch and enabled shuffle along with random state 999 to produce reliable results all the time. A pipeline is also created to make the process more streamlied. The class RFIFeatureSelector enables us to choose the 10 best features to pass through the model building piplines."
   ]
  },
  {
   "cell_type": "code",
   "execution_count": 20,
   "metadata": {},
   "outputs": [],
   "source": [
    "from sklearn.model_selection import KFold, GridSearchCV\n",
    "\n",
    "cv_method = KFold(n_splits=5, shuffle=True, random_state=999)"
   ]
  },
  {
   "cell_type": "code",
   "execution_count": 21,
   "metadata": {},
   "outputs": [],
   "source": [
    "def search_results(gs):\n",
    "\n",
    "    def modelres(scores, params):\n",
    "        scores = {'mean_score': np.mean(scores),\n",
    "             'std_score': np.std(scores),\n",
    "             'min_score': np.min(scores),\n",
    "             'max_score': np.max(scores)}\n",
    "        return pd.Series({**params,**scores})\n",
    "\n",
    "    models = []\n",
    "    scores = []\n",
    "\n",
    "    for i in range(gs.n_splits_):\n",
    "        key = f\"split{i}_test_score\"\n",
    "        r = gs.cv_results_[key]        \n",
    "        scores.append(r.reshape(-1,1))\n",
    "\n",
    "    all_scores = np.hstack(scores)\n",
    "    for p, s in zip(gs.cv_results_['params'], all_scores):\n",
    "        models.append((modelres(s, p)))\n",
    "\n",
    "    pipe_results = pd.concat(models, axis=1).T.sort_values(['mean_score'], ascending=False)\n",
    "\n",
    "    columns_first = ['mean_score', 'std_score', 'max_score', 'min_score']\n",
    "    columns = columns_first + [c for c in pipe_results.columns if c not in columns_first]\n",
    "\n",
    "    return pipe_results[columns]"
   ]
  },
  {
   "cell_type": "code",
   "execution_count": 22,
   "metadata": {},
   "outputs": [],
   "source": [
    "from sklearn.base import BaseEstimator, TransformerMixin\n",
    "\n",
    "# custom function for RFI feature selection inside a pipeline\n",
    "# here we use n_estimators=100\n",
    "class RFIFeatureSelector(BaseEstimator, TransformerMixin):\n",
    "    \n",
    "    # class constructor \n",
    "    # make sure class attributes end with a \"_\"\n",
    "    # per scikit-learn convention to avoid errors\n",
    "    def __init__(self, n_features_=10):\n",
    "        self.n_features_ = n_features_\n",
    "        self.fs_indices_ = None\n",
    "\n",
    "    # override the fit function\n",
    "    def fit(self, X, y):\n",
    "        from sklearn.ensemble import RandomForestRegressor\n",
    "        from numpy import argsort\n",
    "        model_rfi = RandomForestRegressor(n_estimators=100)\n",
    "        model_rfi.fit(X, y)\n",
    "        self.fs_indices_ = argsort(model_rfi.feature_importances_)[::-1][0:self.n_features_] \n",
    "        return self \n",
    "    \n",
    "    # override the transform function\n",
    "    def transform(self, X, y=None):\n",
    "        return X[:, self.fs_indices_]"
   ]
  },
  {
   "cell_type": "markdown",
   "metadata": {},
   "source": [
    "#### Random Forest Algorithm\n",
    "We first get the base results by setting a few parameters and then move on to the hyperparameter tuning for the improved results."
   ]
  },
  {
   "cell_type": "code",
   "execution_count": 23,
   "metadata": {},
   "outputs": [
    {
     "name": "stdout",
     "output_type": "stream",
     "text": [
      "Fitting 5 folds for each of 18 candidates, totalling 90 fits\n"
     ]
    },
    {
     "name": "stderr",
     "output_type": "stream",
     "text": [
      "[Parallel(n_jobs=-1)]: Using backend LokyBackend with 8 concurrent workers.\n",
      "[Parallel(n_jobs=-1)]: Done  34 tasks      | elapsed:   15.7s\n",
      "[Parallel(n_jobs=-1)]: Done  90 out of  90 | elapsed:   38.7s finished\n"
     ]
    }
   ],
   "source": [
    "from sklearn.pipeline import Pipeline\n",
    "from sklearn.ensemble import RandomForestRegressor\n",
    "\n",
    "pipe_RF = Pipeline([('rfi_fs', RFIFeatureSelector()),\n",
    "                    ('RF', RandomForestRegressor(random_state=111))])\n",
    "\n",
    "params_pipe_RF = {'rfi_fs__n_features_': [10, 20, Data.shape[1]],\n",
    "                  'RF__max_depth': [3, 4, 5],\n",
    "                  'RF__min_samples_split': [2, 5]}\n",
    "\n",
    "gs_pipe_RF = GridSearchCV(estimator=pipe_RF, \n",
    "                          param_grid=params_pipe_RF, \n",
    "                          cv=cv_method,\n",
    "                          refit=True,\n",
    "                          n_jobs=-1,\n",
    "                          verbose=1) \n",
    "\n",
    "gs_pipe_RF.fit(Data_sample_train, target_sample_train);"
   ]
  },
  {
   "cell_type": "code",
   "execution_count": 24,
   "metadata": {},
   "outputs": [
    {
     "data": {
      "text/plain": [
       "{'RF__max_depth': 5, 'RF__min_samples_split': 2, 'rfi_fs__n_features_': 10}"
      ]
     },
     "execution_count": 24,
     "metadata": {},
     "output_type": "execute_result"
    }
   ],
   "source": [
    "gs_pipe_RF.best_params_"
   ]
  },
  {
   "cell_type": "code",
   "execution_count": 25,
   "metadata": {},
   "outputs": [
    {
     "data": {
      "text/plain": [
       "0.9928546666451155"
      ]
     },
     "execution_count": 25,
     "metadata": {},
     "output_type": "execute_result"
    }
   ],
   "source": [
    "gs_pipe_RF.best_score_"
   ]
  },
  {
   "cell_type": "markdown",
   "metadata": {},
   "source": [
    "We can see that the best score is 0.992 which is very high. This can also mean that the model has been overfit. Let us deep dive further and find out if tuning the parameters makes a difference."
   ]
  },
  {
   "cell_type": "code",
   "execution_count": 26,
   "metadata": {},
   "outputs": [
    {
     "data": {
      "text/plain": [
       "dict_keys(['cv', 'error_score', 'estimator__memory', 'estimator__steps', 'estimator__verbose', 'estimator__rfi_fs', 'estimator__RF', 'estimator__rfi_fs__n_features_', 'estimator__RF__bootstrap', 'estimator__RF__ccp_alpha', 'estimator__RF__criterion', 'estimator__RF__max_depth', 'estimator__RF__max_features', 'estimator__RF__max_leaf_nodes', 'estimator__RF__max_samples', 'estimator__RF__min_impurity_decrease', 'estimator__RF__min_impurity_split', 'estimator__RF__min_samples_leaf', 'estimator__RF__min_samples_split', 'estimator__RF__min_weight_fraction_leaf', 'estimator__RF__n_estimators', 'estimator__RF__n_jobs', 'estimator__RF__oob_score', 'estimator__RF__random_state', 'estimator__RF__verbose', 'estimator__RF__warm_start', 'estimator', 'iid', 'n_jobs', 'param_grid', 'pre_dispatch', 'refit', 'return_train_score', 'scoring', 'verbose'])"
      ]
     },
     "execution_count": 26,
     "metadata": {},
     "output_type": "execute_result"
    }
   ],
   "source": [
    "gs_pipe_RF.get_params().keys()"
   ]
  },
  {
   "cell_type": "markdown",
   "metadata": {},
   "source": [
    "PLotting the graph for the above results to compare the different performances with the selected features."
   ]
  },
  {
   "cell_type": "code",
   "execution_count": 27,
   "metadata": {},
   "outputs": [
    {
     "data": {
      "image/png": "[encoded data removed]",
      "text/plain": [
       "<Figure size 432x288 with 1 Axes>"
      ]
     },
     "metadata": {
      "image/png": {
       "height": 279,
       "width": 411
      }
     },
     "output_type": "display_data"
    }
   ],
   "source": [
    "#plots\n",
    "results_RF = search_results(gs_pipe_RF)\n",
    "results_RF_10_features = results_RF[results_RF['rfi_fs__n_features_'] == 10.0]\n",
    "\n",
    "\n",
    "for i in results_RF_10_features['RF__max_depth'].unique():\n",
    "    temp = results_RF_10_features[results_RF_10_features['RF__max_depth'] == i]\n",
    "    plt.plot(temp['RF__min_samples_split'], temp['mean_score'], marker = '.', label = i)\n",
    "    \n",
    "plt.legend(title = \"Max Depth\")\n",
    "plt.xlabel('Min Samples for Split')\n",
    "plt.ylabel(\"Accuracy\")\n",
    "plt.title(\"RandomForest Performance Comparison with Features\")\n",
    "plt.show()\n"
   ]
  },
  {
   "cell_type": "markdown",
   "metadata": {},
   "source": [
    "#### Hyperparameter tuning for RandomForest"
   ]
  },
  {
   "cell_type": "code",
   "execution_count": 28,
   "metadata": {},
   "outputs": [
    {
     "name": "stdout",
     "output_type": "stream",
     "text": [
      "Fitting 5 folds for each of 18 candidates, totalling 90 fits\n"
     ]
    },
    {
     "name": "stderr",
     "output_type": "stream",
     "text": [
      "[Parallel(n_jobs=-1)]: Using backend LokyBackend with 8 concurrent workers.\n",
      "[Parallel(n_jobs=-1)]: Done  34 tasks      | elapsed:   15.7s\n",
      "[Parallel(n_jobs=-1)]: Done  90 out of  90 | elapsed:   39.5s finished\n"
     ]
    }
   ],
   "source": [
    "#Further fine tuning\n",
    "from sklearn.pipeline import Pipeline\n",
    "from sklearn.ensemble import RandomForestRegressor\n",
    "\n",
    "pipe_RF2 = Pipeline([('rfi_fs', RFIFeatureSelector()),\n",
    "                    ('RF', RandomForestRegressor(random_state=111))])\n",
    "\n",
    "params_pipe_RF2 = {'rfi_fs__n_features_': [10, 20, Data.shape[1]],\n",
    "                  'RF__max_depth': [15, 5, 10],\n",
    "                  'RF__min_samples_split': [3, 8]}\n",
    "\n",
    "gs_pipe_RF2 = GridSearchCV(estimator=pipe_RF, \n",
    "                          param_grid=params_pipe_RF, \n",
    "                          cv=cv_method,\n",
    "                          refit=True,\n",
    "                          n_jobs=-1,\n",
    "                          verbose=1) \n",
    "\n",
    "gs_pipe_RF2.fit(Data_sample_train, target_sample_train);"
   ]
  },
  {
   "cell_type": "code",
   "execution_count": 29,
   "metadata": {},
   "outputs": [
    {
     "data": {
      "text/plain": [
       "{'RF__max_depth': 5, 'RF__min_samples_split': 2, 'rfi_fs__n_features_': 10}"
      ]
     },
     "execution_count": 29,
     "metadata": {},
     "output_type": "execute_result"
    }
   ],
   "source": [
    "gs_pipe_RF2.best_params_"
   ]
  },
  {
   "cell_type": "code",
   "execution_count": 30,
   "metadata": {},
   "outputs": [
    {
     "data": {
      "text/plain": [
       "0.9928552702771702"
      ]
     },
     "execution_count": 30,
     "metadata": {},
     "output_type": "execute_result"
    }
   ],
   "source": [
    "gs_pipe_RF2.best_score_"
   ]
  },
  {
   "cell_type": "markdown",
   "metadata": {},
   "source": [
    "Even after tuning the parameters, we are getting similar results. Let us try a different algorithm to check if the results match up."
   ]
  },
  {
   "cell_type": "code",
   "execution_count": 31,
   "metadata": {},
   "outputs": [
    {
     "data": {
      "image/png": "[encoded data removed]",
      "text/plain": [
       "<Figure size 432x288 with 1 Axes>"
      ]
     },
     "metadata": {
      "image/png": {
       "height": 279,
       "width": 452
      }
     },
     "output_type": "display_data"
    }
   ],
   "source": [
    "#Plots\n",
    "results_RF2 = search_results(gs_pipe_RF2)\n",
    "results_RF_10_features2 = results_RF2[results_RF2['rfi_fs__n_features_'] == 10.0]\n",
    "\n",
    "\n",
    "for i in results_RF_10_features2['RF__max_depth'].unique():\n",
    "    temp = results_RF_10_features2[results_RF_10_features2['RF__max_depth'] == i]\n",
    "    plt.plot(temp['RF__min_samples_split'], temp['mean_score'], marker = '.', label = i)\n",
    "    \n",
    "plt.legend(title = \"Max Depth\")\n",
    "plt.xlabel('Min Samples for Split')\n",
    "plt.ylabel(\"Accuracy\")\n",
    "plt.title(\"RandomForest Performance Comparison with Features After Tuning\")\n",
    "plt.show()"
   ]
  },
  {
   "cell_type": "markdown",
   "metadata": {},
   "source": [
    "#### Decision Tree Algorithm and Fine tuning the hyperparameters\n",
    "We first get the base results by setting a few parameters and then move on to the hyperparameter tuning for the improved results."
   ]
  },
  {
   "cell_type": "code",
   "execution_count": 32,
   "metadata": {},
   "outputs": [
    {
     "name": "stdout",
     "output_type": "stream",
     "text": [
      "Fitting 5 folds for each of 18 candidates, totalling 90 fits\n"
     ]
    },
    {
     "name": "stderr",
     "output_type": "stream",
     "text": [
      "[Parallel(n_jobs=-2)]: Using backend LokyBackend with 7 concurrent workers.\n",
      "[Parallel(n_jobs=-2)]: Done  36 tasks      | elapsed:   13.0s\n",
      "[Parallel(n_jobs=-2)]: Done  90 out of  90 | elapsed:   29.1s finished\n"
     ]
    }
   ],
   "source": [
    "from sklearn.tree import DecisionTreeRegressor\n",
    "\n",
    "pipe_DT = Pipeline([('rfi_fs', RFIFeatureSelector()),\n",
    "                    ('dt', DecisionTreeRegressor(random_state=111))])\n",
    "\n",
    "params_pipe_DT = {'rfi_fs__n_features_': [10, 20, Data.shape[1]],\n",
    "                  'dt__max_depth': [3, 4, 5],\n",
    "                  'dt__min_samples_split': [2, 5]}\n",
    "\n",
    "gs_pipe_DT = GridSearchCV(estimator=pipe_DT, \n",
    "                          param_grid=params_pipe_DT, \n",
    "                          cv=cv_method,\n",
    "                          refit=True,\n",
    "                          n_jobs=-2,\n",
    "                          verbose=1) \n",
    "\n",
    "gs_pipe_DT.fit(Data_sample_train, target_sample_train);"
   ]
  },
  {
   "cell_type": "code",
   "execution_count": 33,
   "metadata": {},
   "outputs": [
    {
     "data": {
      "text/plain": [
       "{'dt__max_depth': 5, 'dt__min_samples_split': 2, 'rfi_fs__n_features_': 10}"
      ]
     },
     "execution_count": 33,
     "metadata": {},
     "output_type": "execute_result"
    }
   ],
   "source": [
    "gs_pipe_DT.best_params_"
   ]
  },
  {
   "cell_type": "code",
   "execution_count": 34,
   "metadata": {},
   "outputs": [
    {
     "data": {
      "text/plain": [
       "0.9896009916339337"
      ]
     },
     "execution_count": 34,
     "metadata": {},
     "output_type": "execute_result"
    }
   ],
   "source": [
    "gs_pipe_DT.best_score_"
   ]
  },
  {
   "cell_type": "markdown",
   "metadata": {},
   "source": [
    "We can observe similar results when compared to the other algorithms."
   ]
  },
  {
   "cell_type": "code",
   "execution_count": 35,
   "metadata": {},
   "outputs": [
    {
     "data": {
      "image/png": "[encoded data removed]",
      "text/plain": [
       "<Figure size 432x288 with 1 Axes>"
      ]
     },
     "metadata": {
      "image/png": {
       "height": 279,
       "width": 402
      }
     },
     "output_type": "display_data"
    }
   ],
   "source": [
    "results_DT = search_results(gs_pipe_DT)\n",
    "results_DT_10_features = results_DT[results_DT['rfi_fs__n_features_'] == 10.0]\n",
    "\n",
    "\n",
    "for i in results_DT_10_features['dt__max_depth'].unique():\n",
    "    temp = results_DT_10_features[results_DT_10_features['dt__max_depth'] == i]\n",
    "    plt.plot(temp['dt__min_samples_split'], temp['mean_score'], marker = '.', label = i)\n",
    "    \n",
    "plt.legend(title = \"Max Depth\")\n",
    "plt.xlabel('Min Samples for Split')\n",
    "plt.ylabel(\"Accuracy\")\n",
    "plt.title(\"DT Performance Comparison with Features\")\n",
    "plt.show()"
   ]
  },
  {
   "cell_type": "markdown",
   "metadata": {},
   "source": [
    "#### Hyperparameter tuning"
   ]
  },
  {
   "cell_type": "code",
   "execution_count": 36,
   "metadata": {},
   "outputs": [
    {
     "name": "stdout",
     "output_type": "stream",
     "text": [
      "Fitting 5 folds for each of 18 candidates, totalling 90 fits\n"
     ]
    },
    {
     "name": "stderr",
     "output_type": "stream",
     "text": [
      "[Parallel(n_jobs=-2)]: Using backend LokyBackend with 7 concurrent workers.\n",
      "[Parallel(n_jobs=-2)]: Done  36 tasks      | elapsed:   13.3s\n",
      "[Parallel(n_jobs=-2)]: Done  90 out of  90 | elapsed:   29.4s finished\n"
     ]
    }
   ],
   "source": [
    "#Further fine tuning\n",
    "params_pipe_DT2 = {'rfi_fs__n_features_': [10],\n",
    "                  'dt__max_depth': [5, 15, 30],\n",
    "                  'dt__min_samples_split': [5, 50, 100, 150, 200, 250]}\n",
    "\n",
    "gs_pipe_DT2 = GridSearchCV(estimator=pipe_DT, \n",
    "                          param_grid=params_pipe_DT2, \n",
    "                          cv=cv_method,\n",
    "                          refit=True,\n",
    "                          n_jobs=-2,\n",
    "                          verbose=1) \n",
    "\n",
    "gs_pipe_DT2.fit(Data_sample_train, target_sample_train);"
   ]
  },
  {
   "cell_type": "code",
   "execution_count": 37,
   "metadata": {},
   "outputs": [
    {
     "data": {
      "text/plain": [
       "{'dt__max_depth': 30, 'dt__min_samples_split': 5, 'rfi_fs__n_features_': 10}"
      ]
     },
     "execution_count": 37,
     "metadata": {},
     "output_type": "execute_result"
    }
   ],
   "source": [
    "gs_pipe_DT2.best_params_"
   ]
  },
  {
   "cell_type": "code",
   "execution_count": 38,
   "metadata": {},
   "outputs": [
    {
     "data": {
      "text/plain": [
       "0.9958815105128153"
      ]
     },
     "execution_count": 38,
     "metadata": {},
     "output_type": "execute_result"
    }
   ],
   "source": [
    "gs_pipe_DT2.best_score_"
   ]
  },
  {
   "cell_type": "markdown",
   "metadata": {},
   "source": [
    "Similar results are obtained after fine tuning. Let us plot a graph for the same"
   ]
  },
  {
   "cell_type": "code",
   "execution_count": 39,
   "metadata": {},
   "outputs": [
    {
     "data": {
      "image/png": "[encoded data removed]",
      "text/plain": [
       "<Figure size 432x288 with 1 Axes>"
      ]
     },
     "metadata": {
      "image/png": {
       "height": 279,
       "width": 402
      }
     },
     "output_type": "display_data"
    }
   ],
   "source": [
    "results_DT2 = search_results(gs_pipe_DT2)\n",
    "results_DT_10_features2 = results_DT2[results_DT2['rfi_fs__n_features_'] == 10.0]\n",
    "\n",
    "\n",
    "for i in results_DT_10_features2['dt__max_depth'].unique():\n",
    "    temp = results_DT_10_features[results_DT_10_features2['dt__max_depth'] == i]\n",
    "    plt.plot(temp['dt__min_samples_split'], temp['mean_score'], marker = '.', label = i)\n",
    "    \n",
    "plt.legend(title = \"Max Depth\")\n",
    "plt.xlabel('Min Samples for Split')\n",
    "plt.ylabel(\"Accuracy\")\n",
    "plt.title(\"DT Performance Comparison with Features\")\n",
    "plt.show()"
   ]
  },
  {
   "cell_type": "markdown",
   "metadata": {},
   "source": [
    "### 2.3 Model Comparision\n",
    "In this section we are using cross-val to judge the performace of our results"
   ]
  },
  {
   "cell_type": "code",
   "execution_count": 40,
   "metadata": {},
   "outputs": [
    {
     "data": {
      "text/plain": [
       "0.9928464742588531"
      ]
     },
     "execution_count": 40,
     "metadata": {},
     "output_type": "execute_result"
    }
   ],
   "source": [
    "from sklearn.model_selection import cross_val_score\n",
    "\n",
    "cv_method_ttest = KFold(n_splits=10, shuffle=True, random_state=999)\n",
    "\n",
    "randomforest_results = cross_val_score(estimator=gs_pipe_RF2.best_estimator_,\n",
    "                                 X=Data_sample_test,\n",
    "                                 y=target_sample_test, \n",
    "                                 cv=cv_method_ttest, \n",
    "                                 n_jobs=-1)\n",
    "randomforest_results.mean()"
   ]
  },
  {
   "cell_type": "code",
   "execution_count": 41,
   "metadata": {},
   "outputs": [
    {
     "data": {
      "text/plain": [
       "0.9942052937803918"
      ]
     },
     "execution_count": 41,
     "metadata": {},
     "output_type": "execute_result"
    }
   ],
   "source": [
    "cv_results_DT = cross_val_score(estimator=gs_pipe_DT2.best_estimator_,\n",
    "                                X=Data_sample_test,\n",
    "                                y=target_sample_test, \n",
    "                                cv=cv_method_ttest, \n",
    "                                n_jobs=-2)\n",
    "cv_results_DT.mean()"
   ]
  },
  {
   "cell_type": "code",
   "execution_count": 42,
   "metadata": {},
   "outputs": [],
   "source": [
    "#Preds\n",
    "pred_linear = linearmodel.predict(Data_sample_test)\n",
    "#Data_test_transformed = PowerTransformer().fit_transform(Data_sample_test)\n",
    "pred_RF = gs_pipe_RF2.predict(Data_sample_test)\n",
    "pred_DT = gs_pipe_DT2.predict(Data_sample_test)"
   ]
  },
  {
   "cell_type": "code",
   "execution_count": 43,
   "metadata": {},
   "outputs": [
    {
     "name": "stdout",
     "output_type": "stream",
     "text": [
      "Accuracy of the linear regression model:\n"
     ]
    },
    {
     "data": {
      "text/plain": [
       "0.9984109473257428"
      ]
     },
     "execution_count": 43,
     "metadata": {},
     "output_type": "execute_result"
    }
   ],
   "source": [
    "print('Accuracy of the linear regression model:')\n",
    "linearmodel.score(Data_sample_test, target_sample_test)"
   ]
  },
  {
   "cell_type": "code",
   "execution_count": 44,
   "metadata": {},
   "outputs": [
    {
     "name": "stdout",
     "output_type": "stream",
     "text": [
      "Accuracy of the random forest model after hyperparameter tuning\n"
     ]
    },
    {
     "data": {
      "text/plain": [
       "0.9928406510826648"
      ]
     },
     "execution_count": 44,
     "metadata": {},
     "output_type": "execute_result"
    }
   ],
   "source": [
    "print('Accuracy of the random forest model after hyperparameter tuning')\n",
    "gs_pipe_RF2.score(Data_sample_test, target_sample_test)"
   ]
  },
  {
   "cell_type": "code",
   "execution_count": 45,
   "metadata": {},
   "outputs": [
    {
     "name": "stdout",
     "output_type": "stream",
     "text": [
      "Accuracy of the decision tree model after hyperparameter tuning\n"
     ]
    },
    {
     "data": {
      "text/plain": [
       "0.9964827132891031"
      ]
     },
     "execution_count": 45,
     "metadata": {},
     "output_type": "execute_result"
    }
   ],
   "source": [
    "print('Accuracy of the decision tree model after hyperparameter tuning')\n",
    "gs_pipe_DT2.score(Data_sample_test, target_sample_test)"
   ]
  },
  {
   "cell_type": "markdown",
   "metadata": {},
   "source": [
    "### 3. Critique and Limitations\n",
    "The model accuracy is more or less 99% for all the algorithms used for this project. This can be due to overfitting. However, if we deep dive into the dataset itself, we can see that most of the values are similar and therefore we are getting such results. \n",
    "\n",
    "For the Linear Regression, we could use more of the parameters for tunining in the future to get a better performance from the model. Same can be said for the Random Forest and Decision Tree algorithms. This approch towards the dataset was more accuracy foccused. It may not yeild reliable results all the time. For the Random Forest and Decision Tree algorithms, only a few parameters were used for tuning. In the future, we will try to use more or all the parameters availaable to make the solution better."
   ]
  },
  {
   "cell_type": "markdown",
   "metadata": {},
   "source": [
    "### 4. Summary and Conclusions"
   ]
  },
  {
   "cell_type": "markdown",
   "metadata": {},
   "source": [
    "#### 4.1 Summary For Both Phases Of The Project\n",
    "I started the Phase 1 by reading up about the dataset and how the parameters affect teh performancee of the target variable in real life. This was done to get a better understanding of what I was doing so that I could take during the project which would make sense to the end user. \n",
    "\n",
    "Pre processing the data was done in Phase 1. I checked all the null values, missing values, and duplicates that might affect the final performance of the model in Phase 2. Phase 1 also had a lot of exploratory data analysis which was done using univariate and bi-variate charts. I could get a good look at all the distributions of the features and decide which variable to use as the target variable. A heatmap gave interesting outputs as I could see the correlation of the target variable with the other variables in teh dataset. This helped further on in the feature selection for Phase 2 of the project.\n",
    "\n",
    "Phase 2 of the project was all about modelling, predicting, and scaling the dataset features to predict the target variable accurately. Very interestingly, I saw that all my results were around the 99% accuracy rate which is highly unlikely in the real world. Deep diving furhter into the dataset, I could see that the target variable TEY had very less difference between each row and maybe that was the reason for my results. \n",
    "\n",
    "For the modelling, I have used Linear Regression, Random Forest, and Decision Tree algorithms to predict the target variable. Feature selection and ranking was done using a class which uses RandomForestRegressor. The results obtained from this step tallied with what I had got from the heatmap in Phase 1 of the project. The important parameters were used in the pipeline which helped streamline the whole code. The results remained very similar even after the tuning. Overall the Decision Tree algorithm gave the highest acuuracy. In the future, other parameters can be tuned and explored to make the result better."
   ]
  },
  {
   "cell_type": "markdown",
   "metadata": {},
   "source": [
    "#### 4.2 Summary of Findings\n",
    "The primary aim of this project was to predict the TEY values after training the dataset with 3 different algorithms. The Decision Tree algorithm yeilded the best results among the 3 algorithms that were used for this project. \n",
    "\n",
    "The heatmap from Phase 1 and the feature selection and ranking from Phase 2 had similar results which gave the assurance that the project was going in the right direction. The dataset was cleaned for the tasks to be implemented in Phase 2 of the project. Since the target variable had very littel difference between its rows, we could see an exceptionally high accuracy rate. This is not achievable with other datasets. The dataset had about 7000 rows, out of which only 5000 rows were used for this project. The test split was 30% and all the models were able to yeild high accuracies with the predicted values."
   ]
  },
  {
   "cell_type": "markdown",
   "metadata": {},
   "source": [
    "#### 4.3 Conclusion\n",
    "To conclude, the dataset was cleaned and prepared for the tasks in Phase 2 of the project. 3 models were used for the predictions: Linear Regression, Random Forrest, and Decision Trees. The Decision Tree algorithm had the best results among all the other algorithms after the parameter tuning was done. Since this was a regression based problem, the use of XGBoost algorithm could also be used. This implementation might happen in the future. Overall it was a very interesting datset to play with and get results from. "
   ]
  },
  {
   "cell_type": "markdown",
   "metadata": {},
   "source": [
    "## 5. References\n",
    "Heysem Kaya.Gas Turbine CO and NOx Emission Data Set Data Set.Retrieved April 8, 2021 from https://archive.ics.uci.edu/ml/datasets/Gas+Turbine+CO+and+NOx+Emission+Data+Set"
   ]
  },
  {
   "cell_type": "code",
   "execution_count": null,
   "metadata": {},
   "outputs": [],
   "source": []
  }
 ],
 "metadata": {
  "kernelspec": {
   "display_name": "Python 3",
   "language": "python",
   "name": "python3"
  },
  "language_info": {
   "codemirror_mode": {
    "name": "ipython",
    "version": 3
   },
   "file_extension": ".py",
   "mimetype": "text/x-python",
   "name": "python",
   "nbconvert_exporter": "python",
   "pygments_lexer": "ipython3",
   "version": "3.7.6"
  }
 },
 "nbformat": 4,
 "nbformat_minor": 4
}
